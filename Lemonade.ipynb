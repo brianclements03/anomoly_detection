{
 "cells": [
  {
   "cell_type": "code",
   "execution_count": 1,
   "id": "c4d6e279",
   "metadata": {},
   "outputs": [],
   "source": [
    "import numpy as np\n",
    "import pandas as pd\n",
    "import matplotlib.pyplot as plt\n",
    "import seaborn as sns\n",
    "from pydataset import data\n",
    "import continuous_probabilitic_methods as cpm"
   ]
  },
  {
   "cell_type": "code",
   "execution_count": 2,
   "id": "9623f5d4",
   "metadata": {},
   "outputs": [],
   "source": [
    "df = pd.read_csv(\"lemonade.csv\")"
   ]
  },
  {
   "cell_type": "code",
   "execution_count": 3,
   "id": "4a68a39a",
   "metadata": {},
   "outputs": [
    {
     "data": {
      "text/html": [
       "<div>\n",
       "<style scoped>\n",
       "    .dataframe tbody tr th:only-of-type {\n",
       "        vertical-align: middle;\n",
       "    }\n",
       "\n",
       "    .dataframe tbody tr th {\n",
       "        vertical-align: top;\n",
       "    }\n",
       "\n",
       "    .dataframe thead th {\n",
       "        text-align: right;\n",
       "    }\n",
       "</style>\n",
       "<table border=\"1\" class=\"dataframe\">\n",
       "  <thead>\n",
       "    <tr style=\"text-align: right;\">\n",
       "      <th></th>\n",
       "      <th>Date</th>\n",
       "      <th>Day</th>\n",
       "      <th>Temperature</th>\n",
       "      <th>Rainfall</th>\n",
       "      <th>Flyers</th>\n",
       "      <th>Price</th>\n",
       "      <th>Sales</th>\n",
       "    </tr>\n",
       "  </thead>\n",
       "  <tbody>\n",
       "    <tr>\n",
       "      <th>0</th>\n",
       "      <td>1/1/17</td>\n",
       "      <td>Sunday</td>\n",
       "      <td>27.0</td>\n",
       "      <td>2.00</td>\n",
       "      <td>15</td>\n",
       "      <td>0.5</td>\n",
       "      <td>10</td>\n",
       "    </tr>\n",
       "    <tr>\n",
       "      <th>1</th>\n",
       "      <td>1/2/17</td>\n",
       "      <td>Monday</td>\n",
       "      <td>28.9</td>\n",
       "      <td>1.33</td>\n",
       "      <td>15</td>\n",
       "      <td>0.5</td>\n",
       "      <td>13</td>\n",
       "    </tr>\n",
       "    <tr>\n",
       "      <th>2</th>\n",
       "      <td>1/3/17</td>\n",
       "      <td>Tuesday</td>\n",
       "      <td>34.5</td>\n",
       "      <td>1.33</td>\n",
       "      <td>27</td>\n",
       "      <td>0.5</td>\n",
       "      <td>15</td>\n",
       "    </tr>\n",
       "    <tr>\n",
       "      <th>3</th>\n",
       "      <td>1/4/17</td>\n",
       "      <td>Wednesday</td>\n",
       "      <td>44.1</td>\n",
       "      <td>1.05</td>\n",
       "      <td>28</td>\n",
       "      <td>0.5</td>\n",
       "      <td>17</td>\n",
       "    </tr>\n",
       "    <tr>\n",
       "      <th>4</th>\n",
       "      <td>1/5/17</td>\n",
       "      <td>Thursday</td>\n",
       "      <td>42.4</td>\n",
       "      <td>1.00</td>\n",
       "      <td>33</td>\n",
       "      <td>0.5</td>\n",
       "      <td>18</td>\n",
       "    </tr>\n",
       "  </tbody>\n",
       "</table>\n",
       "</div>"
      ],
      "text/plain": [
       "     Date        Day  Temperature  Rainfall  Flyers  Price  Sales\n",
       "0  1/1/17     Sunday         27.0      2.00      15    0.5     10\n",
       "1  1/2/17     Monday         28.9      1.33      15    0.5     13\n",
       "2  1/3/17    Tuesday         34.5      1.33      27    0.5     15\n",
       "3  1/4/17  Wednesday         44.1      1.05      28    0.5     17\n",
       "4  1/5/17   Thursday         42.4      1.00      33    0.5     18"
      ]
     },
     "execution_count": 3,
     "metadata": {},
     "output_type": "execute_result"
    }
   ],
   "source": [
    "df.head()"
   ]
  },
  {
   "cell_type": "code",
   "execution_count": 4,
   "id": "8d174971",
   "metadata": {},
   "outputs": [],
   "source": [
    "df.Date = pd.to_datetime(df.Date).sort_values()\n",
    "df.index = df.Date"
   ]
  },
  {
   "cell_type": "code",
   "execution_count": 5,
   "id": "9a8f4798",
   "metadata": {
    "scrolled": true
   },
   "outputs": [
    {
     "name": "stdout",
     "output_type": "stream",
     "text": [
      "<class 'pandas.core.frame.DataFrame'>\n",
      "DatetimeIndex: 365 entries, 2017-01-01 to 2017-12-31\n",
      "Data columns (total 7 columns):\n",
      " #   Column       Non-Null Count  Dtype         \n",
      "---  ------       --------------  -----         \n",
      " 0   Date         365 non-null    datetime64[ns]\n",
      " 1   Day          365 non-null    object        \n",
      " 2   Temperature  365 non-null    float64       \n",
      " 3   Rainfall     365 non-null    float64       \n",
      " 4   Flyers       365 non-null    int64         \n",
      " 5   Price        365 non-null    float64       \n",
      " 6   Sales        365 non-null    int64         \n",
      "dtypes: datetime64[ns](1), float64(3), int64(2), object(1)\n",
      "memory usage: 22.8+ KB\n"
     ]
    }
   ],
   "source": [
    "df.info()"
   ]
  },
  {
   "cell_type": "code",
   "execution_count": 6,
   "id": "d9eacb58",
   "metadata": {},
   "outputs": [
    {
     "data": {
      "text/html": [
       "<div>\n",
       "<style scoped>\n",
       "    .dataframe tbody tr th:only-of-type {\n",
       "        vertical-align: middle;\n",
       "    }\n",
       "\n",
       "    .dataframe tbody tr th {\n",
       "        vertical-align: top;\n",
       "    }\n",
       "\n",
       "    .dataframe thead th {\n",
       "        text-align: right;\n",
       "    }\n",
       "</style>\n",
       "<table border=\"1\" class=\"dataframe\">\n",
       "  <thead>\n",
       "    <tr style=\"text-align: right;\">\n",
       "      <th></th>\n",
       "      <th>Temperature</th>\n",
       "      <th>Rainfall</th>\n",
       "      <th>Flyers</th>\n",
       "      <th>Price</th>\n",
       "      <th>Sales</th>\n",
       "    </tr>\n",
       "  </thead>\n",
       "  <tbody>\n",
       "    <tr>\n",
       "      <th>count</th>\n",
       "      <td>365.000000</td>\n",
       "      <td>365.000000</td>\n",
       "      <td>365.000000</td>\n",
       "      <td>365.0</td>\n",
       "      <td>365.000000</td>\n",
       "    </tr>\n",
       "    <tr>\n",
       "      <th>mean</th>\n",
       "      <td>61.224658</td>\n",
       "      <td>0.825973</td>\n",
       "      <td>40.104110</td>\n",
       "      <td>0.5</td>\n",
       "      <td>27.865753</td>\n",
       "    </tr>\n",
       "    <tr>\n",
       "      <th>std</th>\n",
       "      <td>18.085892</td>\n",
       "      <td>0.273890</td>\n",
       "      <td>13.786445</td>\n",
       "      <td>0.0</td>\n",
       "      <td>30.948132</td>\n",
       "    </tr>\n",
       "    <tr>\n",
       "      <th>min</th>\n",
       "      <td>15.100000</td>\n",
       "      <td>0.400000</td>\n",
       "      <td>-38.000000</td>\n",
       "      <td>0.5</td>\n",
       "      <td>7.000000</td>\n",
       "    </tr>\n",
       "    <tr>\n",
       "      <th>25%</th>\n",
       "      <td>49.700000</td>\n",
       "      <td>0.650000</td>\n",
       "      <td>31.000000</td>\n",
       "      <td>0.5</td>\n",
       "      <td>20.000000</td>\n",
       "    </tr>\n",
       "    <tr>\n",
       "      <th>50%</th>\n",
       "      <td>61.100000</td>\n",
       "      <td>0.740000</td>\n",
       "      <td>39.000000</td>\n",
       "      <td>0.5</td>\n",
       "      <td>25.000000</td>\n",
       "    </tr>\n",
       "    <tr>\n",
       "      <th>75%</th>\n",
       "      <td>71.700000</td>\n",
       "      <td>0.910000</td>\n",
       "      <td>49.000000</td>\n",
       "      <td>0.5</td>\n",
       "      <td>30.000000</td>\n",
       "    </tr>\n",
       "    <tr>\n",
       "      <th>max</th>\n",
       "      <td>212.000000</td>\n",
       "      <td>2.500000</td>\n",
       "      <td>80.000000</td>\n",
       "      <td>0.5</td>\n",
       "      <td>534.000000</td>\n",
       "    </tr>\n",
       "  </tbody>\n",
       "</table>\n",
       "</div>"
      ],
      "text/plain": [
       "       Temperature    Rainfall      Flyers  Price       Sales\n",
       "count   365.000000  365.000000  365.000000  365.0  365.000000\n",
       "mean     61.224658    0.825973   40.104110    0.5   27.865753\n",
       "std      18.085892    0.273890   13.786445    0.0   30.948132\n",
       "min      15.100000    0.400000  -38.000000    0.5    7.000000\n",
       "25%      49.700000    0.650000   31.000000    0.5   20.000000\n",
       "50%      61.100000    0.740000   39.000000    0.5   25.000000\n",
       "75%      71.700000    0.910000   49.000000    0.5   30.000000\n",
       "max     212.000000    2.500000   80.000000    0.5  534.000000"
      ]
     },
     "execution_count": 6,
     "metadata": {},
     "output_type": "execute_result"
    }
   ],
   "source": [
    "df.describe()"
   ]
  },
  {
   "cell_type": "code",
   "execution_count": 7,
   "id": "ad5620a0",
   "metadata": {},
   "outputs": [
    {
     "data": {
      "text/plain": [
       "(Timestamp('2017-12-31 00:00:00'),\n",
       " Timestamp('2017-01-01 00:00:00'),\n",
       " Timedelta('364 days 00:00:00'))"
      ]
     },
     "execution_count": 7,
     "metadata": {},
     "output_type": "execute_result"
    }
   ],
   "source": [
    "df.index.max(), df.index.min(), df.index.max() - df.index.min()"
   ]
  },
  {
   "cell_type": "code",
   "execution_count": 8,
   "id": "b7e7b424",
   "metadata": {},
   "outputs": [
    {
     "data": {
      "text/html": [
       "<div>\n",
       "<style scoped>\n",
       "    .dataframe tbody tr th:only-of-type {\n",
       "        vertical-align: middle;\n",
       "    }\n",
       "\n",
       "    .dataframe tbody tr th {\n",
       "        vertical-align: top;\n",
       "    }\n",
       "\n",
       "    .dataframe thead tr th {\n",
       "        text-align: left;\n",
       "    }\n",
       "\n",
       "    .dataframe thead tr:last-of-type th {\n",
       "        text-align: right;\n",
       "    }\n",
       "</style>\n",
       "<table border=\"1\" class=\"dataframe\">\n",
       "  <thead>\n",
       "    <tr>\n",
       "      <th></th>\n",
       "      <th colspan=\"8\" halign=\"left\">Sales</th>\n",
       "    </tr>\n",
       "    <tr>\n",
       "      <th></th>\n",
       "      <th>count</th>\n",
       "      <th>mean</th>\n",
       "      <th>std</th>\n",
       "      <th>min</th>\n",
       "      <th>25%</th>\n",
       "      <th>50%</th>\n",
       "      <th>75%</th>\n",
       "      <th>max</th>\n",
       "    </tr>\n",
       "    <tr>\n",
       "      <th>Day</th>\n",
       "      <th></th>\n",
       "      <th></th>\n",
       "      <th></th>\n",
       "      <th></th>\n",
       "      <th></th>\n",
       "      <th></th>\n",
       "      <th></th>\n",
       "      <th></th>\n",
       "    </tr>\n",
       "  </thead>\n",
       "  <tbody>\n",
       "    <tr>\n",
       "      <th>Friday</th>\n",
       "      <td>52.0</td>\n",
       "      <td>25.384615</td>\n",
       "      <td>7.010227</td>\n",
       "      <td>11.0</td>\n",
       "      <td>21.00</td>\n",
       "      <td>25.5</td>\n",
       "      <td>29.25</td>\n",
       "      <td>41.0</td>\n",
       "    </tr>\n",
       "    <tr>\n",
       "      <th>Monday</th>\n",
       "      <td>52.0</td>\n",
       "      <td>29.307692</td>\n",
       "      <td>29.913954</td>\n",
       "      <td>12.0</td>\n",
       "      <td>20.75</td>\n",
       "      <td>25.0</td>\n",
       "      <td>30.00</td>\n",
       "      <td>235.0</td>\n",
       "    </tr>\n",
       "    <tr>\n",
       "      <th>Saturday</th>\n",
       "      <td>52.0</td>\n",
       "      <td>27.269231</td>\n",
       "      <td>17.711318</td>\n",
       "      <td>13.0</td>\n",
       "      <td>19.75</td>\n",
       "      <td>25.0</td>\n",
       "      <td>30.00</td>\n",
       "      <td>143.0</td>\n",
       "    </tr>\n",
       "    <tr>\n",
       "      <th>Sunday</th>\n",
       "      <td>53.0</td>\n",
       "      <td>27.094340</td>\n",
       "      <td>19.676484</td>\n",
       "      <td>7.0</td>\n",
       "      <td>19.00</td>\n",
       "      <td>25.0</td>\n",
       "      <td>29.00</td>\n",
       "      <td>158.0</td>\n",
       "    </tr>\n",
       "    <tr>\n",
       "      <th>Thursday</th>\n",
       "      <td>52.0</td>\n",
       "      <td>25.673077</td>\n",
       "      <td>6.729278</td>\n",
       "      <td>13.0</td>\n",
       "      <td>21.00</td>\n",
       "      <td>25.0</td>\n",
       "      <td>30.00</td>\n",
       "      <td>43.0</td>\n",
       "    </tr>\n",
       "    <tr>\n",
       "      <th>Tuesday</th>\n",
       "      <td>52.0</td>\n",
       "      <td>34.750000</td>\n",
       "      <td>70.898125</td>\n",
       "      <td>10.0</td>\n",
       "      <td>21.00</td>\n",
       "      <td>25.0</td>\n",
       "      <td>30.00</td>\n",
       "      <td>534.0</td>\n",
       "    </tr>\n",
       "    <tr>\n",
       "      <th>Wednesday</th>\n",
       "      <td>52.0</td>\n",
       "      <td>25.596154</td>\n",
       "      <td>6.622184</td>\n",
       "      <td>12.0</td>\n",
       "      <td>20.00</td>\n",
       "      <td>25.0</td>\n",
       "      <td>30.00</td>\n",
       "      <td>41.0</td>\n",
       "    </tr>\n",
       "  </tbody>\n",
       "</table>\n",
       "</div>"
      ],
      "text/plain": [
       "          Sales                                                       \n",
       "          count       mean        std   min    25%   50%    75%    max\n",
       "Day                                                                   \n",
       "Friday     52.0  25.384615   7.010227  11.0  21.00  25.5  29.25   41.0\n",
       "Monday     52.0  29.307692  29.913954  12.0  20.75  25.0  30.00  235.0\n",
       "Saturday   52.0  27.269231  17.711318  13.0  19.75  25.0  30.00  143.0\n",
       "Sunday     53.0  27.094340  19.676484   7.0  19.00  25.0  29.00  158.0\n",
       "Thursday   52.0  25.673077   6.729278  13.0  21.00  25.0  30.00   43.0\n",
       "Tuesday    52.0  34.750000  70.898125  10.0  21.00  25.0  30.00  534.0\n",
       "Wednesday  52.0  25.596154   6.622184  12.0  20.00  25.0  30.00   41.0"
      ]
     },
     "execution_count": 8,
     "metadata": {},
     "output_type": "execute_result"
    }
   ],
   "source": [
    "# check out the stats with a .describe()\n",
    "df.groupby('Day')[['Sales']].describe()"
   ]
  },
  {
   "cell_type": "code",
   "execution_count": 9,
   "id": "7a24b913",
   "metadata": {
    "scrolled": true
   },
   "outputs": [
    {
     "data": {
      "image/png": "[encoded data removed]",
      "text/plain": [
       "<Figure size 432x432 with 5 Axes>"
      ]
     },
     "metadata": {
      "needs_background": "light"
     },
     "output_type": "display_data"
    }
   ],
   "source": [
    "i = 0\n",
    "plt.figure(figsize=(6,6))\n",
    "for col in df.columns:\n",
    "    if np.issubdtype(df[col].dtype, np.number):\n",
    "#         i = enumerate(col)\n",
    "        plot_number = i + 1\n",
    "        plt.subplot(5,1,plot_number)\n",
    "        y = df[col]\n",
    "        y.plot(label='Daily')\n",
    "        y.resample('W').mean().plot(label=\"weekly\")\n",
    "        y.resample('M').mean().plot(label='monthly')\n",
    "        plt.title(label = col)\n",
    "#         plt.legend(loc='upper right')\n",
    "        plt.legend(bbox_to_anchor=(1.05, 1), loc='upper left', borderaxespad=0)\n",
    "        plt.tight_layout\n",
    "        i += 1"
   ]
  },
  {
   "cell_type": "markdown",
   "id": "9bc985e9",
   "metadata": {},
   "source": [
    "- I think I already see the anomoly..."
   ]
  },
  {
   "cell_type": "markdown",
   "id": "eb39313a",
   "metadata": {},
   "source": [
    "### 1.a Use the IQR Range Rule and the upper and lower bounds to identify the lower outliers of each column of lemonade.csv, using the multiplier of 1.5. Do these lower outliers make sense? Which outliers should be kept?"
   ]
  },
  {
   "cell_type": "code",
   "execution_count": 10,
   "id": "d47ce941",
   "metadata": {},
   "outputs": [
    {
     "name": "stdout",
     "output_type": "stream",
     "text": [
      "the inner lower bound for Temperature is 16.700000000000003\n",
      "the inner lower bound for Rainfall is 0.26\n",
      "the inner lower bound for Flyers is 4.0\n",
      "the inner lower bound for Price is 0.5\n",
      "the inner lower bound for Sales is 5.0\n"
     ]
    }
   ],
   "source": [
    "# iterate through columns and create histograms\n",
    "for col in df.columns:\n",
    "#     determine that it is a number type\n",
    "    if np.issubdtype(df[col].dtype, np.number):\n",
    "        inner_lower, inner_upper = cpm.get_lower_and_upper_bounds(df[col], 1.5)\n",
    "        print(f'the inner lower bound for {col} is {inner_lower}')\n",
    "#         print(f'the inner upper bound for {col} is {inner_upper}')"
   ]
  },
  {
   "cell_type": "markdown",
   "id": "a94b02fd",
   "metadata": {},
   "source": [
    "- Looks fine so far"
   ]
  },
  {
   "cell_type": "markdown",
   "id": "beb02de5",
   "metadata": {},
   "source": [
    "### 1.b Use the IQR Range Rule and the upper and upper bounds to identify the upper outliers of each column of lemonade.csv, using the multiplier of 1.5. Do these upper outliers make sense? Which outliers should be kept?"
   ]
  },
  {
   "cell_type": "code",
   "execution_count": 11,
   "id": "04fdfadc",
   "metadata": {},
   "outputs": [
    {
     "name": "stdout",
     "output_type": "stream",
     "text": [
      "the inner upper bound for Temperature is 104.7\n",
      "the inner upper bound for Rainfall is 1.3\n",
      "the inner upper bound for Flyers is 76.0\n",
      "the inner upper bound for Price is 0.5\n",
      "the inner upper bound for Sales is 45.0\n"
     ]
    }
   ],
   "source": [
    "# iterate through columns and create histograms\n",
    "for col in df.columns:\n",
    "#     determine that it is a number type\n",
    "    if np.issubdtype(df[col].dtype, np.number):\n",
    "        inner_lower, inner_upper = cpm.get_lower_and_upper_bounds(df[col], 1.5)\n",
    "#         print(f'the inner lower bound for {col} is {inner_lower}')\n",
    "        print(f'the inner upper bound for {col} is {inner_upper}')"
   ]
  },
  {
   "cell_type": "markdown",
   "id": "40298990",
   "metadata": {},
   "source": [
    "- Also nothing unusual about the bounds"
   ]
  },
  {
   "cell_type": "markdown",
   "id": "d72c57f8",
   "metadata": {},
   "source": [
    "### 1.c Using the multiplier of 3, IQR Range Rule, and the lower bounds, identify the outliers below the lower bound in each colum of lemonade.csv. Do these lower outliers make sense? Which outliers should be kept?"
   ]
  },
  {
   "cell_type": "code",
   "execution_count": 12,
   "id": "5ce8e98e",
   "metadata": {},
   "outputs": [
    {
     "name": "stdout",
     "output_type": "stream",
     "text": [
      "the outer lower bound for Temperature is -16.299999999999997\n",
      "the outer lower bound for Rainfall is -0.13\n",
      "the outer lower bound for Flyers is -23.0\n",
      "the outer lower bound for Price is 0.5\n",
      "the outer lower bound for Sales is -10.0\n"
     ]
    }
   ],
   "source": [
    "# iterate through columns and create histograms\n",
    "for col in df.columns:\n",
    "#     determine that it is a number type\n",
    "    if np.issubdtype(df[col].dtype, np.number):\n",
    "        inner_lower, inner_upper = cpm.get_lower_and_upper_bounds(df[col], 3)\n",
    "        print(f'the outer lower bound for {col} is {inner_lower}')\n",
    "#         print(f'the outer upper bound for {col} is {inner_upper}')"
   ]
  },
  {
   "cell_type": "markdown",
   "id": "44c3d47d",
   "metadata": {},
   "source": [
    "- The lower bound for temp is a little unusual, but not off the charts\n",
    "- Can't have negative rainfall\n",
    "- Can't have negative flyers, i think\n",
    "- Can't have negative sales either"
   ]
  },
  {
   "cell_type": "markdown",
   "id": "80b32a5e",
   "metadata": {},
   "source": [
    "### 1.d Using the multiplier of 3, IQR Range Rule, and the upper bounds, identify the outliers above the upper_bound in each colum of lemonade.csv. Do these upper outliers make sense? Which outliers should be kept?"
   ]
  },
  {
   "cell_type": "code",
   "execution_count": 13,
   "id": "022b45eb",
   "metadata": {},
   "outputs": [
    {
     "name": "stdout",
     "output_type": "stream",
     "text": [
      "the outer upper bound for Temperature is 137.7\n",
      "the outer upper bound for Rainfall is 1.69\n",
      "the outer upper bound for Flyers is 103.0\n",
      "the outer upper bound for Price is 0.5\n",
      "the outer upper bound for Sales is 60.0\n"
     ]
    }
   ],
   "source": [
    "# iterate through columns and create histograms\n",
    "for col in df.columns:\n",
    "#     determine that it is a number type\n",
    "    if np.issubdtype(df[col].dtype, np.number):\n",
    "        inner_lower, inner_upper = cpm.get_lower_and_upper_bounds(df[col], 3)\n",
    "#         print(f'the outer lower bound for {col} is {inner_lower}')\n",
    "        print(f'the outer upper bound for {col} is {inner_upper}')"
   ]
  },
  {
   "cell_type": "markdown",
   "id": "f7ff85f5",
   "metadata": {},
   "source": [
    "- That upper temp is too hot\n",
    "- Otherwise, nothing terribly amiss here"
   ]
  },
  {
   "cell_type": "code",
   "execution_count": 14,
   "id": "b2b1cdcc",
   "metadata": {},
   "outputs": [],
   "source": [
    "## This code would draw a sns boxplot of all columns with standard outliers\n",
    "# # iterate through columns and create histograms\n",
    "# for col in df.columns:\n",
    "# #     determine that it is a number type\n",
    "#     if np.issubdtype(df[col].dtype, np.number):\n",
    "#         inner_lower, inner_upper = cpm.get_lower_and_upper_bounds(df[col], 3)\n",
    "#         sns.boxplot(data=df, x=col)\n",
    "#         plt.show()"
   ]
  },
  {
   "cell_type": "markdown",
   "id": "e5922463",
   "metadata": {},
   "source": [
    "### 2. a Identify if any columns in lemonade.csv are normally distributed. "
   ]
  },
  {
   "cell_type": "code",
   "execution_count": 15,
   "id": "9173a60f",
   "metadata": {},
   "outputs": [
    {
     "data": {
      "image/png": "[encoded data removed]",
      "text/plain": [
       "<Figure size 432x288 with 1 Axes>"
      ]
     },
     "metadata": {
      "needs_background": "light"
     },
     "output_type": "display_data"
    },
    {
     "data": {
      "image/png": "[encoded data removed]",
      "text/plain": [
       "<Figure size 432x288 with 1 Axes>"
      ]
     },
     "metadata": {
      "needs_background": "light"
     },
     "output_type": "display_data"
    },
    {
     "data": {
      "image/png": "[encoded data removed]",
      "text/plain": [
       "<Figure size 432x288 with 1 Axes>"
      ]
     },
     "metadata": {
      "needs_background": "light"
     },
     "output_type": "display_data"
    },
    {
     "data": {
      "image/png": "[encoded data removed]",
      "text/plain": [
       "<Figure size 432x288 with 1 Axes>"
      ]
     },
     "metadata": {
      "needs_background": "light"
     },
     "output_type": "display_data"
    },
    {
     "data": {
      "image/png": "[encoded data removed]",
      "text/plain": [
       "<Figure size 432x288 with 1 Axes>"
      ]
     },
     "metadata": {
      "needs_background": "light"
     },
     "output_type": "display_data"
    }
   ],
   "source": [
    "# iterate through columns and create histograms\n",
    "for col in df.columns:\n",
    "#     determine that it is a number type\n",
    "    if np.issubdtype(df[col].dtype, np.number):\n",
    "        df[col].hist()\n",
    "        plt.title(label=col)\n",
    "        plt.show()"
   ]
  },
  {
   "cell_type": "markdown",
   "id": "98e0baff",
   "metadata": {},
   "source": [
    "- Temperature, Rainfall and Flyers are normally distributed"
   ]
  },
  {
   "cell_type": "markdown",
   "id": "2c995661",
   "metadata": {},
   "source": [
    "### 2.b For normally distributed columns:\n",
    "\n",
    "- Use a 2 sigma decision rule to isolate the outliers.\n",
    "\n",
    "    - Do these make sense?\n",
    "    - Should certain outliers be kept or removed?"
   ]
  },
  {
   "cell_type": "code",
   "execution_count": 16,
   "id": "3a0e4e19",
   "metadata": {},
   "outputs": [],
   "source": [
    "# # z-score:\n",
    "# # subtract from the mean, divide by the standard deviation\n",
    "# # i.e (x - x_mean) / x_std\n",
    "\n",
    "# df['temp_zscore'] = ((df['Temperature'] - df['Temperature'].mean())\n",
    "#                      / df['Temperature'].std())\n",
    "# df['rain_zscore'] = ((df['Rainfall'] - df['Rainfall'].mean())\n",
    "#                      / df['Rainfall'].std())\n",
    "# df['flyers_zscore'] = ((df['Flyers'] - df['Flyers'].mean())\n",
    "#                      / df['Flyers'].std())\n",
    "# df.head()"
   ]
  },
  {
   "cell_type": "code",
   "execution_count": 17,
   "id": "8b5e28a7",
   "metadata": {},
   "outputs": [
    {
     "data": {
      "text/html": [
       "<div>\n",
       "<style scoped>\n",
       "    .dataframe tbody tr th:only-of-type {\n",
       "        vertical-align: middle;\n",
       "    }\n",
       "\n",
       "    .dataframe tbody tr th {\n",
       "        vertical-align: top;\n",
       "    }\n",
       "\n",
       "    .dataframe thead th {\n",
       "        text-align: right;\n",
       "    }\n",
       "</style>\n",
       "<table border=\"1\" class=\"dataframe\">\n",
       "  <thead>\n",
       "    <tr style=\"text-align: right;\">\n",
       "      <th></th>\n",
       "      <th>Day</th>\n",
       "      <th>Temperature</th>\n",
       "      <th>Rainfall</th>\n",
       "      <th>Flyers</th>\n",
       "      <th>Price</th>\n",
       "      <th>Sales</th>\n",
       "      <th>Temperature_zscore</th>\n",
       "      <th>Rainfall_zscore</th>\n",
       "      <th>Flyers_zscore</th>\n",
       "    </tr>\n",
       "    <tr>\n",
       "      <th>Date</th>\n",
       "      <th></th>\n",
       "      <th></th>\n",
       "      <th></th>\n",
       "      <th></th>\n",
       "      <th></th>\n",
       "      <th></th>\n",
       "      <th></th>\n",
       "      <th></th>\n",
       "      <th></th>\n",
       "    </tr>\n",
       "  </thead>\n",
       "  <tbody>\n",
       "    <tr>\n",
       "      <th>2017-01-01</th>\n",
       "      <td>Sunday</td>\n",
       "      <td>27.0</td>\n",
       "      <td>2.00</td>\n",
       "      <td>15</td>\n",
       "      <td>0.5</td>\n",
       "      <td>10</td>\n",
       "      <td>-1.892340</td>\n",
       "      <td>4.286488</td>\n",
       "      <td>-1.820927</td>\n",
       "    </tr>\n",
       "    <tr>\n",
       "      <th>2017-01-02</th>\n",
       "      <td>Monday</td>\n",
       "      <td>28.9</td>\n",
       "      <td>1.33</td>\n",
       "      <td>15</td>\n",
       "      <td>0.5</td>\n",
       "      <td>13</td>\n",
       "      <td>-1.787286</td>\n",
       "      <td>1.840253</td>\n",
       "      <td>-1.820927</td>\n",
       "    </tr>\n",
       "    <tr>\n",
       "      <th>2017-01-03</th>\n",
       "      <td>Tuesday</td>\n",
       "      <td>34.5</td>\n",
       "      <td>1.33</td>\n",
       "      <td>27</td>\n",
       "      <td>0.5</td>\n",
       "      <td>15</td>\n",
       "      <td>-1.477652</td>\n",
       "      <td>1.840253</td>\n",
       "      <td>-0.950507</td>\n",
       "    </tr>\n",
       "    <tr>\n",
       "      <th>2017-01-04</th>\n",
       "      <td>Wednesday</td>\n",
       "      <td>44.1</td>\n",
       "      <td>1.05</td>\n",
       "      <td>28</td>\n",
       "      <td>0.5</td>\n",
       "      <td>17</td>\n",
       "      <td>-0.946852</td>\n",
       "      <td>0.817946</td>\n",
       "      <td>-0.877972</td>\n",
       "    </tr>\n",
       "    <tr>\n",
       "      <th>2017-01-05</th>\n",
       "      <td>Thursday</td>\n",
       "      <td>42.4</td>\n",
       "      <td>1.00</td>\n",
       "      <td>33</td>\n",
       "      <td>0.5</td>\n",
       "      <td>18</td>\n",
       "      <td>-1.040848</td>\n",
       "      <td>0.635391</td>\n",
       "      <td>-0.515297</td>\n",
       "    </tr>\n",
       "    <tr>\n",
       "      <th>...</th>\n",
       "      <td>...</td>\n",
       "      <td>...</td>\n",
       "      <td>...</td>\n",
       "      <td>...</td>\n",
       "      <td>...</td>\n",
       "      <td>...</td>\n",
       "      <td>...</td>\n",
       "      <td>...</td>\n",
       "      <td>...</td>\n",
       "    </tr>\n",
       "    <tr>\n",
       "      <th>2017-12-27</th>\n",
       "      <td>Wednesday</td>\n",
       "      <td>42.7</td>\n",
       "      <td>1.00</td>\n",
       "      <td>33</td>\n",
       "      <td>0.5</td>\n",
       "      <td>19</td>\n",
       "      <td>-1.024260</td>\n",
       "      <td>0.635391</td>\n",
       "      <td>-0.515297</td>\n",
       "    </tr>\n",
       "    <tr>\n",
       "      <th>2017-12-28</th>\n",
       "      <td>Thursday</td>\n",
       "      <td>37.8</td>\n",
       "      <td>1.25</td>\n",
       "      <td>32</td>\n",
       "      <td>0.5</td>\n",
       "      <td>16</td>\n",
       "      <td>-1.295189</td>\n",
       "      <td>1.548165</td>\n",
       "      <td>-0.587832</td>\n",
       "    </tr>\n",
       "    <tr>\n",
       "      <th>2017-12-29</th>\n",
       "      <td>Friday</td>\n",
       "      <td>39.5</td>\n",
       "      <td>1.25</td>\n",
       "      <td>17</td>\n",
       "      <td>0.5</td>\n",
       "      <td>15</td>\n",
       "      <td>-1.201194</td>\n",
       "      <td>1.548165</td>\n",
       "      <td>-1.675857</td>\n",
       "    </tr>\n",
       "    <tr>\n",
       "      <th>2017-12-30</th>\n",
       "      <td>Saturday</td>\n",
       "      <td>30.9</td>\n",
       "      <td>1.43</td>\n",
       "      <td>22</td>\n",
       "      <td>0.5</td>\n",
       "      <td>13</td>\n",
       "      <td>-1.676702</td>\n",
       "      <td>2.205363</td>\n",
       "      <td>-1.313182</td>\n",
       "    </tr>\n",
       "    <tr>\n",
       "      <th>2017-12-31</th>\n",
       "      <td>Sunday</td>\n",
       "      <td>15.1</td>\n",
       "      <td>2.50</td>\n",
       "      <td>9</td>\n",
       "      <td>0.5</td>\n",
       "      <td>7</td>\n",
       "      <td>-2.550311</td>\n",
       "      <td>6.112037</td>\n",
       "      <td>-2.256137</td>\n",
       "    </tr>\n",
       "  </tbody>\n",
       "</table>\n",
       "<p>365 rows × 9 columns</p>\n",
       "</div>"
      ],
      "text/plain": [
       "                  Day  Temperature  Rainfall  Flyers  Price  Sales  \\\n",
       "Date                                                                 \n",
       "2017-01-01     Sunday         27.0      2.00      15    0.5     10   \n",
       "2017-01-02     Monday         28.9      1.33      15    0.5     13   \n",
       "2017-01-03    Tuesday         34.5      1.33      27    0.5     15   \n",
       "2017-01-04  Wednesday         44.1      1.05      28    0.5     17   \n",
       "2017-01-05   Thursday         42.4      1.00      33    0.5     18   \n",
       "...               ...          ...       ...     ...    ...    ...   \n",
       "2017-12-27  Wednesday         42.7      1.00      33    0.5     19   \n",
       "2017-12-28   Thursday         37.8      1.25      32    0.5     16   \n",
       "2017-12-29     Friday         39.5      1.25      17    0.5     15   \n",
       "2017-12-30   Saturday         30.9      1.43      22    0.5     13   \n",
       "2017-12-31     Sunday         15.1      2.50       9    0.5      7   \n",
       "\n",
       "            Temperature_zscore  Rainfall_zscore  Flyers_zscore  \n",
       "Date                                                            \n",
       "2017-01-01           -1.892340         4.286488      -1.820927  \n",
       "2017-01-02           -1.787286         1.840253      -1.820927  \n",
       "2017-01-03           -1.477652         1.840253      -0.950507  \n",
       "2017-01-04           -0.946852         0.817946      -0.877972  \n",
       "2017-01-05           -1.040848         0.635391      -0.515297  \n",
       "...                        ...              ...            ...  \n",
       "2017-12-27           -1.024260         0.635391      -0.515297  \n",
       "2017-12-28           -1.295189         1.548165      -0.587832  \n",
       "2017-12-29           -1.201194         1.548165      -1.675857  \n",
       "2017-12-30           -1.676702         2.205363      -1.313182  \n",
       "2017-12-31           -2.550311         6.112037      -2.256137  \n",
       "\n",
       "[365 rows x 9 columns]"
      ]
     },
     "execution_count": 17,
     "metadata": {},
     "output_type": "execute_result"
    }
   ],
   "source": [
    "# a for loop to systematically add a zscore column for every normally distr. col.\n",
    "\n",
    "# define the normally distributed columns:\n",
    "normal_cols = ['Temperature','Rainfall','Flyers']\n",
    "# create an empty dictionary to store the zscore array, to be appended to the df later\n",
    "result = {}\n",
    "# for loop to add a zed score col to the df, one for each normally distr. col.\n",
    "for col in normal_cols:\n",
    "    # calculate zed score\n",
    "    z_score = ((df[col] - df[col].mean()) / df[col].std())\n",
    "    # add resulting array to the result dictionary created above\n",
    "    result[f'{col}_zscore'] = z_score\n",
    "# turn these result arrays into a datafram\n",
    "result = pd.DataFrame(result)\n",
    "# and concatenate\n",
    "zscore_df = pd.concat([df,result], axis = 1).drop(columns='Date')\n",
    "zscore_df"
   ]
  },
  {
   "cell_type": "code",
   "execution_count": 18,
   "id": "b0c5cd8d",
   "metadata": {},
   "outputs": [
    {
     "data": {
      "text/plain": [
       "Date\n",
       "2017-02-11    212.0\n",
       "2017-06-16     99.3\n",
       "2017-06-26    102.6\n",
       "2017-07-01    102.9\n",
       "2017-07-10     98.0\n",
       "2017-07-18     99.3\n",
       "2017-07-22     99.6\n",
       "2017-07-27     97.9\n",
       "2017-12-05     22.0\n",
       "2017-12-31     15.1\n",
       "Name: Temperature, dtype: float64"
      ]
     },
     "execution_count": 18,
     "metadata": {},
     "output_type": "execute_result"
    }
   ],
   "source": [
    "zscore_df.Temperature[zscore_df.Temperature_zscore.abs() >=2]"
   ]
  },
  {
   "cell_type": "markdown",
   "id": "146d9aaa",
   "metadata": {},
   "source": [
    "- The temperature on 11feb2017 makes no sense"
   ]
  },
  {
   "cell_type": "code",
   "execution_count": 19,
   "id": "08cf2c3b",
   "metadata": {},
   "outputs": [
    {
     "data": {
      "text/plain": [
       "Date\n",
       "2017-01-01    2.00\n",
       "2017-01-06    1.54\n",
       "2017-01-07    1.54\n",
       "2017-01-11    1.54\n",
       "2017-01-16    1.67\n",
       "2017-01-17    1.43\n",
       "2017-01-20    1.43\n",
       "2017-01-24    1.54\n",
       "2017-12-04    1.54\n",
       "2017-12-05    1.82\n",
       "2017-12-09    1.43\n",
       "2017-12-10    1.82\n",
       "2017-12-13    1.43\n",
       "2017-12-14    1.54\n",
       "2017-12-18    1.43\n",
       "2017-12-22    1.54\n",
       "2017-12-26    1.43\n",
       "2017-12-30    1.43\n",
       "2017-12-31    2.50\n",
       "Name: Rainfall, dtype: float64"
      ]
     },
     "execution_count": 19,
     "metadata": {},
     "output_type": "execute_result"
    }
   ],
   "source": [
    "zscore_df.Rainfall[zscore_df.Rainfall_zscore.abs() >=2]"
   ]
  },
  {
   "cell_type": "markdown",
   "id": "0b8b7be4",
   "metadata": {},
   "source": [
    "- I don't see any rainfall amounts that are off the scales"
   ]
  },
  {
   "cell_type": "code",
   "execution_count": 20,
   "id": "cd056b2e",
   "metadata": {},
   "outputs": [
    {
     "data": {
      "text/plain": [
       "Date\n",
       "2017-06-16    77\n",
       "2017-06-20    70\n",
       "2017-06-21    76\n",
       "2017-07-02    68\n",
       "2017-07-03    68\n",
       "2017-07-14    80\n",
       "2017-07-18    76\n",
       "2017-07-23    72\n",
       "2017-07-24    69\n",
       "2017-07-27    74\n",
       "2017-11-21   -38\n",
       "2017-12-05    11\n",
       "2017-12-31     9\n",
       "Name: Flyers, dtype: int64"
      ]
     },
     "execution_count": 20,
     "metadata": {},
     "output_type": "execute_result"
    }
   ],
   "source": [
    "zscore_df.Flyers[zscore_df.Flyers_zscore.abs() >=2]"
   ]
  },
  {
   "cell_type": "markdown",
   "id": "b6792303",
   "metadata": {},
   "source": [
    "- We can't have negative flyers, unless this is a lemonade stand with particularly sophisticated inventory control"
   ]
  },
  {
   "cell_type": "markdown",
   "id": "498a7f9c",
   "metadata": {},
   "source": [
    "### 3 Now use a 3 sigma decision rule to isolate the outliers in the normally distributed columns from lemonade.csv"
   ]
  },
  {
   "cell_type": "code",
   "execution_count": 21,
   "id": "a6c0eb97",
   "metadata": {},
   "outputs": [
    {
     "data": {
      "text/plain": [
       "Date\n",
       "2017-02-11    212.0\n",
       "Name: Temperature, dtype: float64"
      ]
     },
     "execution_count": 21,
     "metadata": {},
     "output_type": "execute_result"
    }
   ],
   "source": [
    "zscore_df.Temperature[zscore_df.Temperature_zscore.abs() >=3]"
   ]
  },
  {
   "cell_type": "code",
   "execution_count": 22,
   "id": "e3ec0fe3",
   "metadata": {},
   "outputs": [
    {
     "data": {
      "text/plain": [
       "Date\n",
       "2017-01-01    2.00\n",
       "2017-01-16    1.67\n",
       "2017-12-05    1.82\n",
       "2017-12-10    1.82\n",
       "2017-12-31    2.50\n",
       "Name: Rainfall, dtype: float64"
      ]
     },
     "execution_count": 22,
     "metadata": {},
     "output_type": "execute_result"
    }
   ],
   "source": [
    "zscore_df.Rainfall[zscore_df.Rainfall_zscore.abs() >=3]"
   ]
  },
  {
   "cell_type": "markdown",
   "id": "9836df3f",
   "metadata": {},
   "source": [
    "- Ok, now that I know these are sigma 3...well i still think they need to stay put"
   ]
  },
  {
   "cell_type": "code",
   "execution_count": 23,
   "id": "3a166ab8",
   "metadata": {},
   "outputs": [
    {
     "data": {
      "text/plain": [
       "Date\n",
       "2017-11-21   -38\n",
       "Name: Flyers, dtype: int64"
      ]
     },
     "execution_count": 23,
     "metadata": {},
     "output_type": "execute_result"
    }
   ],
   "source": [
    "zscore_df.Flyers[zscore_df.Flyers_zscore.abs() >=3]"
   ]
  },
  {
   "cell_type": "markdown",
   "id": "31fc4118",
   "metadata": {},
   "source": [
    "- I stll think the only one to go is the negative"
   ]
  },
  {
   "cell_type": "code",
   "execution_count": null,
   "id": "0ae33981",
   "metadata": {},
   "outputs": [],
   "source": []
  }
 ],
 "metadata": {
  "kernelspec": {
   "display_name": "Python 3",
   "language": "python",
   "name": "python3"
  },
  "language_info": {
   "codemirror_mode": {
    "name": "ipython",
    "version": 3
   },
   "file_extension": ".py",
   "mimetype": "text/x-python",
   "name": "python",
   "nbconvert_exporter": "python",
   "pygments_lexer": "ipython3",
   "version": "3.8.8"
  }
 },
 "nbformat": 4,
 "nbformat_minor": 5
}
